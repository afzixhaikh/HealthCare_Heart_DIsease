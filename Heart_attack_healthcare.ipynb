{
 "cells": [
  {
   "cell_type": "code",
   "execution_count": 1,
   "id": "112bc971",
   "metadata": {},
   "outputs": [],
   "source": [
    "import numpy as np\n",
    "import pandas as pd\n",
    "import matplotlib.pyplot as plt\n",
    "import seaborn as sns\n",
    "sns.set()"
   ]
  },
  {
   "cell_type": "code",
   "execution_count": 2,
   "id": "fb422cfa",
   "metadata": {},
   "outputs": [],
   "source": [
    "df = pd.read_excel('1645792390_cep1_dataset.xlsx')"
   ]
  },
  {
   "cell_type": "markdown",
   "id": "cf1cf5c8",
   "metadata": {},
   "source": [
    "Preliminary Data Analysis"
   ]
  },
  {
   "cell_type": "code",
   "execution_count": 3,
   "id": "bc121bb9",
   "metadata": {},
   "outputs": [
    {
     "data": {
      "text/html": [
       "<div>\n",
       "<style scoped>\n",
       "    .dataframe tbody tr th:only-of-type {\n",
       "        vertical-align: middle;\n",
       "    }\n",
       "\n",
       "    .dataframe tbody tr th {\n",
       "        vertical-align: top;\n",
       "    }\n",
       "\n",
       "    .dataframe thead th {\n",
       "        text-align: right;\n",
       "    }\n",
       "</style>\n",
       "<table border=\"1\" class=\"dataframe\">\n",
       "  <thead>\n",
       "    <tr style=\"text-align: right;\">\n",
       "      <th></th>\n",
       "      <th>age</th>\n",
       "      <th>sex</th>\n",
       "      <th>cp</th>\n",
       "      <th>trestbps</th>\n",
       "      <th>chol</th>\n",
       "      <th>fbs</th>\n",
       "      <th>restecg</th>\n",
       "      <th>thalach</th>\n",
       "      <th>exang</th>\n",
       "      <th>oldpeak</th>\n",
       "      <th>slope</th>\n",
       "      <th>ca</th>\n",
       "      <th>thal</th>\n",
       "      <th>target</th>\n",
       "    </tr>\n",
       "  </thead>\n",
       "  <tbody>\n",
       "    <tr>\n",
       "      <th>0</th>\n",
       "      <td>63</td>\n",
       "      <td>1</td>\n",
       "      <td>3</td>\n",
       "      <td>145</td>\n",
       "      <td>233</td>\n",
       "      <td>1</td>\n",
       "      <td>0</td>\n",
       "      <td>150</td>\n",
       "      <td>0</td>\n",
       "      <td>2.3</td>\n",
       "      <td>0</td>\n",
       "      <td>0</td>\n",
       "      <td>1</td>\n",
       "      <td>1</td>\n",
       "    </tr>\n",
       "    <tr>\n",
       "      <th>1</th>\n",
       "      <td>37</td>\n",
       "      <td>1</td>\n",
       "      <td>2</td>\n",
       "      <td>130</td>\n",
       "      <td>250</td>\n",
       "      <td>0</td>\n",
       "      <td>1</td>\n",
       "      <td>187</td>\n",
       "      <td>0</td>\n",
       "      <td>3.5</td>\n",
       "      <td>0</td>\n",
       "      <td>0</td>\n",
       "      <td>2</td>\n",
       "      <td>1</td>\n",
       "    </tr>\n",
       "    <tr>\n",
       "      <th>2</th>\n",
       "      <td>41</td>\n",
       "      <td>0</td>\n",
       "      <td>1</td>\n",
       "      <td>130</td>\n",
       "      <td>204</td>\n",
       "      <td>0</td>\n",
       "      <td>0</td>\n",
       "      <td>172</td>\n",
       "      <td>0</td>\n",
       "      <td>1.4</td>\n",
       "      <td>2</td>\n",
       "      <td>0</td>\n",
       "      <td>2</td>\n",
       "      <td>1</td>\n",
       "    </tr>\n",
       "    <tr>\n",
       "      <th>3</th>\n",
       "      <td>56</td>\n",
       "      <td>1</td>\n",
       "      <td>1</td>\n",
       "      <td>120</td>\n",
       "      <td>236</td>\n",
       "      <td>0</td>\n",
       "      <td>1</td>\n",
       "      <td>178</td>\n",
       "      <td>0</td>\n",
       "      <td>0.8</td>\n",
       "      <td>2</td>\n",
       "      <td>0</td>\n",
       "      <td>2</td>\n",
       "      <td>1</td>\n",
       "    </tr>\n",
       "    <tr>\n",
       "      <th>4</th>\n",
       "      <td>57</td>\n",
       "      <td>0</td>\n",
       "      <td>0</td>\n",
       "      <td>120</td>\n",
       "      <td>354</td>\n",
       "      <td>0</td>\n",
       "      <td>1</td>\n",
       "      <td>163</td>\n",
       "      <td>1</td>\n",
       "      <td>0.6</td>\n",
       "      <td>2</td>\n",
       "      <td>0</td>\n",
       "      <td>2</td>\n",
       "      <td>1</td>\n",
       "    </tr>\n",
       "  </tbody>\n",
       "</table>\n",
       "</div>"
      ],
      "text/plain": [
       "   age  sex  cp  trestbps  chol  fbs  restecg  thalach  exang  oldpeak  slope  \\\n",
       "0   63    1   3       145   233    1        0      150      0      2.3      0   \n",
       "1   37    1   2       130   250    0        1      187      0      3.5      0   \n",
       "2   41    0   1       130   204    0        0      172      0      1.4      2   \n",
       "3   56    1   1       120   236    0        1      178      0      0.8      2   \n",
       "4   57    0   0       120   354    0        1      163      1      0.6      2   \n",
       "\n",
       "   ca  thal  target  \n",
       "0   0     1       1  \n",
       "1   0     2       1  \n",
       "2   0     2       1  \n",
       "3   0     2       1  \n",
       "4   0     2       1  "
      ]
     },
     "execution_count": 3,
     "metadata": {},
     "output_type": "execute_result"
    }
   ],
   "source": [
    "df.head()"
   ]
  },
  {
   "cell_type": "code",
   "execution_count": 4,
   "id": "6f63368a",
   "metadata": {},
   "outputs": [
    {
     "data": {
      "text/plain": [
       "(303, 14)"
      ]
     },
     "execution_count": 4,
     "metadata": {},
     "output_type": "execute_result"
    }
   ],
   "source": [
    "df.shape"
   ]
  },
  {
   "cell_type": "code",
   "execution_count": 5,
   "id": "753b2dfb",
   "metadata": {},
   "outputs": [
    {
     "name": "stdout",
     "output_type": "stream",
     "text": [
      "<class 'pandas.core.frame.DataFrame'>\n",
      "RangeIndex: 303 entries, 0 to 302\n",
      "Data columns (total 14 columns):\n",
      " #   Column    Non-Null Count  Dtype  \n",
      "---  ------    --------------  -----  \n",
      " 0   age       303 non-null    int64  \n",
      " 1   sex       303 non-null    int64  \n",
      " 2   cp        303 non-null    int64  \n",
      " 3   trestbps  303 non-null    int64  \n",
      " 4   chol      303 non-null    int64  \n",
      " 5   fbs       303 non-null    int64  \n",
      " 6   restecg   303 non-null    int64  \n",
      " 7   thalach   303 non-null    int64  \n",
      " 8   exang     303 non-null    int64  \n",
      " 9   oldpeak   303 non-null    float64\n",
      " 10  slope     303 non-null    int64  \n",
      " 11  ca        303 non-null    int64  \n",
      " 12  thal      303 non-null    int64  \n",
      " 13  target    303 non-null    int64  \n",
      "dtypes: float64(1), int64(13)\n",
      "memory usage: 33.3 KB\n"
     ]
    }
   ],
   "source": [
    "df.info()"
   ]
  },
  {
   "cell_type": "code",
   "execution_count": 6,
   "id": "98e2ffa6",
   "metadata": {},
   "outputs": [
    {
     "data": {
      "text/html": [
       "<div>\n",
       "<style scoped>\n",
       "    .dataframe tbody tr th:only-of-type {\n",
       "        vertical-align: middle;\n",
       "    }\n",
       "\n",
       "    .dataframe tbody tr th {\n",
       "        vertical-align: top;\n",
       "    }\n",
       "\n",
       "    .dataframe thead th {\n",
       "        text-align: right;\n",
       "    }\n",
       "</style>\n",
       "<table border=\"1\" class=\"dataframe\">\n",
       "  <thead>\n",
       "    <tr style=\"text-align: right;\">\n",
       "      <th></th>\n",
       "      <th>age</th>\n",
       "      <th>sex</th>\n",
       "      <th>cp</th>\n",
       "      <th>trestbps</th>\n",
       "      <th>chol</th>\n",
       "      <th>fbs</th>\n",
       "      <th>restecg</th>\n",
       "      <th>thalach</th>\n",
       "      <th>exang</th>\n",
       "      <th>oldpeak</th>\n",
       "      <th>slope</th>\n",
       "      <th>ca</th>\n",
       "      <th>thal</th>\n",
       "      <th>target</th>\n",
       "    </tr>\n",
       "  </thead>\n",
       "  <tbody>\n",
       "    <tr>\n",
       "      <th>count</th>\n",
       "      <td>303.000000</td>\n",
       "      <td>303.000000</td>\n",
       "      <td>303.000000</td>\n",
       "      <td>303.000000</td>\n",
       "      <td>303.000000</td>\n",
       "      <td>303.000000</td>\n",
       "      <td>303.000000</td>\n",
       "      <td>303.000000</td>\n",
       "      <td>303.000000</td>\n",
       "      <td>303.000000</td>\n",
       "      <td>303.000000</td>\n",
       "      <td>303.000000</td>\n",
       "      <td>303.000000</td>\n",
       "      <td>303.000000</td>\n",
       "    </tr>\n",
       "    <tr>\n",
       "      <th>mean</th>\n",
       "      <td>54.366337</td>\n",
       "      <td>0.683168</td>\n",
       "      <td>0.966997</td>\n",
       "      <td>131.623762</td>\n",
       "      <td>246.264026</td>\n",
       "      <td>0.148515</td>\n",
       "      <td>0.528053</td>\n",
       "      <td>149.646865</td>\n",
       "      <td>0.326733</td>\n",
       "      <td>1.039604</td>\n",
       "      <td>1.399340</td>\n",
       "      <td>0.729373</td>\n",
       "      <td>2.313531</td>\n",
       "      <td>0.544554</td>\n",
       "    </tr>\n",
       "    <tr>\n",
       "      <th>std</th>\n",
       "      <td>9.082101</td>\n",
       "      <td>0.466011</td>\n",
       "      <td>1.032052</td>\n",
       "      <td>17.538143</td>\n",
       "      <td>51.830751</td>\n",
       "      <td>0.356198</td>\n",
       "      <td>0.525860</td>\n",
       "      <td>22.905161</td>\n",
       "      <td>0.469794</td>\n",
       "      <td>1.161075</td>\n",
       "      <td>0.616226</td>\n",
       "      <td>1.022606</td>\n",
       "      <td>0.612277</td>\n",
       "      <td>0.498835</td>\n",
       "    </tr>\n",
       "    <tr>\n",
       "      <th>min</th>\n",
       "      <td>29.000000</td>\n",
       "      <td>0.000000</td>\n",
       "      <td>0.000000</td>\n",
       "      <td>94.000000</td>\n",
       "      <td>126.000000</td>\n",
       "      <td>0.000000</td>\n",
       "      <td>0.000000</td>\n",
       "      <td>71.000000</td>\n",
       "      <td>0.000000</td>\n",
       "      <td>0.000000</td>\n",
       "      <td>0.000000</td>\n",
       "      <td>0.000000</td>\n",
       "      <td>0.000000</td>\n",
       "      <td>0.000000</td>\n",
       "    </tr>\n",
       "    <tr>\n",
       "      <th>25%</th>\n",
       "      <td>47.500000</td>\n",
       "      <td>0.000000</td>\n",
       "      <td>0.000000</td>\n",
       "      <td>120.000000</td>\n",
       "      <td>211.000000</td>\n",
       "      <td>0.000000</td>\n",
       "      <td>0.000000</td>\n",
       "      <td>133.500000</td>\n",
       "      <td>0.000000</td>\n",
       "      <td>0.000000</td>\n",
       "      <td>1.000000</td>\n",
       "      <td>0.000000</td>\n",
       "      <td>2.000000</td>\n",
       "      <td>0.000000</td>\n",
       "    </tr>\n",
       "    <tr>\n",
       "      <th>50%</th>\n",
       "      <td>55.000000</td>\n",
       "      <td>1.000000</td>\n",
       "      <td>1.000000</td>\n",
       "      <td>130.000000</td>\n",
       "      <td>240.000000</td>\n",
       "      <td>0.000000</td>\n",
       "      <td>1.000000</td>\n",
       "      <td>153.000000</td>\n",
       "      <td>0.000000</td>\n",
       "      <td>0.800000</td>\n",
       "      <td>1.000000</td>\n",
       "      <td>0.000000</td>\n",
       "      <td>2.000000</td>\n",
       "      <td>1.000000</td>\n",
       "    </tr>\n",
       "    <tr>\n",
       "      <th>75%</th>\n",
       "      <td>61.000000</td>\n",
       "      <td>1.000000</td>\n",
       "      <td>2.000000</td>\n",
       "      <td>140.000000</td>\n",
       "      <td>274.500000</td>\n",
       "      <td>0.000000</td>\n",
       "      <td>1.000000</td>\n",
       "      <td>166.000000</td>\n",
       "      <td>1.000000</td>\n",
       "      <td>1.600000</td>\n",
       "      <td>2.000000</td>\n",
       "      <td>1.000000</td>\n",
       "      <td>3.000000</td>\n",
       "      <td>1.000000</td>\n",
       "    </tr>\n",
       "    <tr>\n",
       "      <th>max</th>\n",
       "      <td>77.000000</td>\n",
       "      <td>1.000000</td>\n",
       "      <td>3.000000</td>\n",
       "      <td>200.000000</td>\n",
       "      <td>564.000000</td>\n",
       "      <td>1.000000</td>\n",
       "      <td>2.000000</td>\n",
       "      <td>202.000000</td>\n",
       "      <td>1.000000</td>\n",
       "      <td>6.200000</td>\n",
       "      <td>2.000000</td>\n",
       "      <td>4.000000</td>\n",
       "      <td>3.000000</td>\n",
       "      <td>1.000000</td>\n",
       "    </tr>\n",
       "  </tbody>\n",
       "</table>\n",
       "</div>"
      ],
      "text/plain": [
       "              age         sex          cp    trestbps        chol         fbs  \\\n",
       "count  303.000000  303.000000  303.000000  303.000000  303.000000  303.000000   \n",
       "mean    54.366337    0.683168    0.966997  131.623762  246.264026    0.148515   \n",
       "std      9.082101    0.466011    1.032052   17.538143   51.830751    0.356198   \n",
       "min     29.000000    0.000000    0.000000   94.000000  126.000000    0.000000   \n",
       "25%     47.500000    0.000000    0.000000  120.000000  211.000000    0.000000   \n",
       "50%     55.000000    1.000000    1.000000  130.000000  240.000000    0.000000   \n",
       "75%     61.000000    1.000000    2.000000  140.000000  274.500000    0.000000   \n",
       "max     77.000000    1.000000    3.000000  200.000000  564.000000    1.000000   \n",
       "\n",
       "          restecg     thalach       exang     oldpeak       slope          ca  \\\n",
       "count  303.000000  303.000000  303.000000  303.000000  303.000000  303.000000   \n",
       "mean     0.528053  149.646865    0.326733    1.039604    1.399340    0.729373   \n",
       "std      0.525860   22.905161    0.469794    1.161075    0.616226    1.022606   \n",
       "min      0.000000   71.000000    0.000000    0.000000    0.000000    0.000000   \n",
       "25%      0.000000  133.500000    0.000000    0.000000    1.000000    0.000000   \n",
       "50%      1.000000  153.000000    0.000000    0.800000    1.000000    0.000000   \n",
       "75%      1.000000  166.000000    1.000000    1.600000    2.000000    1.000000   \n",
       "max      2.000000  202.000000    1.000000    6.200000    2.000000    4.000000   \n",
       "\n",
       "             thal      target  \n",
       "count  303.000000  303.000000  \n",
       "mean     2.313531    0.544554  \n",
       "std      0.612277    0.498835  \n",
       "min      0.000000    0.000000  \n",
       "25%      2.000000    0.000000  \n",
       "50%      2.000000    1.000000  \n",
       "75%      3.000000    1.000000  \n",
       "max      3.000000    1.000000  "
      ]
     },
     "execution_count": 6,
     "metadata": {},
     "output_type": "execute_result"
    }
   ],
   "source": [
    "df.describe()"
   ]
  },
  {
   "cell_type": "markdown",
   "id": "7ef40e68",
   "metadata": {},
   "source": [
    "Most patients are above 45 years. \n",
    "68% of people are male."
   ]
  },
  {
   "cell_type": "code",
   "execution_count": 7,
   "id": "0f5ed1ef",
   "metadata": {},
   "outputs": [
    {
     "data": {
      "text/plain": [
       "Series([], dtype: int64)"
      ]
     },
     "execution_count": 7,
     "metadata": {},
     "output_type": "execute_result"
    }
   ],
   "source": [
    "df.isnull().sum()[df.isnull().sum()>0]"
   ]
  },
  {
   "cell_type": "markdown",
   "id": "76956e12",
   "metadata": {},
   "source": [
    "No null values in the data"
   ]
  },
  {
   "cell_type": "code",
   "execution_count": 8,
   "id": "c4470863",
   "metadata": {},
   "outputs": [
    {
     "data": {
      "text/html": [
       "<div>\n",
       "<style scoped>\n",
       "    .dataframe tbody tr th:only-of-type {\n",
       "        vertical-align: middle;\n",
       "    }\n",
       "\n",
       "    .dataframe tbody tr th {\n",
       "        vertical-align: top;\n",
       "    }\n",
       "\n",
       "    .dataframe thead th {\n",
       "        text-align: right;\n",
       "    }\n",
       "</style>\n",
       "<table border=\"1\" class=\"dataframe\">\n",
       "  <thead>\n",
       "    <tr style=\"text-align: right;\">\n",
       "      <th></th>\n",
       "      <th>age</th>\n",
       "      <th>sex</th>\n",
       "      <th>cp</th>\n",
       "      <th>trestbps</th>\n",
       "      <th>chol</th>\n",
       "      <th>fbs</th>\n",
       "      <th>restecg</th>\n",
       "      <th>thalach</th>\n",
       "      <th>exang</th>\n",
       "      <th>oldpeak</th>\n",
       "      <th>slope</th>\n",
       "      <th>ca</th>\n",
       "      <th>thal</th>\n",
       "      <th>target</th>\n",
       "    </tr>\n",
       "  </thead>\n",
       "  <tbody>\n",
       "    <tr>\n",
       "      <th>164</th>\n",
       "      <td>38</td>\n",
       "      <td>1</td>\n",
       "      <td>2</td>\n",
       "      <td>138</td>\n",
       "      <td>175</td>\n",
       "      <td>0</td>\n",
       "      <td>1</td>\n",
       "      <td>173</td>\n",
       "      <td>0</td>\n",
       "      <td>0.0</td>\n",
       "      <td>2</td>\n",
       "      <td>4</td>\n",
       "      <td>2</td>\n",
       "      <td>1</td>\n",
       "    </tr>\n",
       "  </tbody>\n",
       "</table>\n",
       "</div>"
      ],
      "text/plain": [
       "     age  sex  cp  trestbps  chol  fbs  restecg  thalach  exang  oldpeak  \\\n",
       "164   38    1   2       138   175    0        1      173      0      0.0   \n",
       "\n",
       "     slope  ca  thal  target  \n",
       "164      2   4     2       1  "
      ]
     },
     "execution_count": 8,
     "metadata": {},
     "output_type": "execute_result"
    }
   ],
   "source": [
    "df[df.duplicated()]"
   ]
  },
  {
   "cell_type": "markdown",
   "id": "374de62c",
   "metadata": {},
   "source": [
    "There is 1 duplicate entry"
   ]
  },
  {
   "cell_type": "code",
   "execution_count": 9,
   "id": "10fe7946",
   "metadata": {},
   "outputs": [],
   "source": [
    "df = df.drop(164)"
   ]
  },
  {
   "cell_type": "markdown",
   "id": "a1838304",
   "metadata": {},
   "source": [
    "Drop duplicate row"
   ]
  },
  {
   "cell_type": "code",
   "execution_count": 10,
   "id": "10d91f9f",
   "metadata": {},
   "outputs": [
    {
     "data": {
      "text/plain": [
       "Index(['age', 'sex', 'cp', 'trestbps', 'chol', 'fbs', 'restecg', 'thalach',\n",
       "       'exang', 'oldpeak', 'slope', 'ca', 'thal', 'target'],\n",
       "      dtype='object')"
      ]
     },
     "execution_count": 10,
     "metadata": {},
     "output_type": "execute_result"
    }
   ],
   "source": [
    "df.columns"
   ]
  },
  {
   "cell_type": "code",
   "execution_count": 11,
   "id": "f7be96a0",
   "metadata": {
    "scrolled": true
   },
   "outputs": [
    {
     "data": {
      "text/plain": [
       "age          41\n",
       "sex           2\n",
       "cp            4\n",
       "trestbps     49\n",
       "chol        152\n",
       "fbs           2\n",
       "restecg       3\n",
       "thalach      91\n",
       "exang         2\n",
       "oldpeak      40\n",
       "slope         3\n",
       "ca            5\n",
       "thal          4\n",
       "target        2\n",
       "dtype: int64"
      ]
     },
     "execution_count": 11,
     "metadata": {},
     "output_type": "execute_result"
    }
   ],
   "source": [
    "df.apply(lambda x: len(x.value_counts()))"
   ]
  },
  {
   "cell_type": "code",
   "execution_count": 12,
   "id": "187b2574",
   "metadata": {},
   "outputs": [],
   "source": [
    "bar_columns = []\n",
    "hist_columns = []"
   ]
  },
  {
   "cell_type": "code",
   "execution_count": 13,
   "id": "f736c881",
   "metadata": {},
   "outputs": [
    {
     "data": {
      "text/plain": [
       "age         None\n",
       "sex         None\n",
       "cp          None\n",
       "trestbps    None\n",
       "chol        None\n",
       "fbs         None\n",
       "restecg     None\n",
       "thalach     None\n",
       "exang       None\n",
       "oldpeak     None\n",
       "slope       None\n",
       "ca          None\n",
       "thal        None\n",
       "target      None\n",
       "dtype: object"
      ]
     },
     "execution_count": 13,
     "metadata": {},
     "output_type": "execute_result"
    }
   ],
   "source": [
    "df.apply(lambda x:hist_columns.append(x.name) if len(x.value_counts()) >=6 else bar_columns.append(x.name))"
   ]
  },
  {
   "cell_type": "code",
   "execution_count": 14,
   "id": "722a8fc8",
   "metadata": {},
   "outputs": [
    {
     "data": {
      "text/plain": [
       "['age', 'trestbps', 'chol', 'thalach', 'oldpeak']"
      ]
     },
     "execution_count": 14,
     "metadata": {},
     "output_type": "execute_result"
    }
   ],
   "source": [
    "hist_columns"
   ]
  },
  {
   "cell_type": "code",
   "execution_count": 15,
   "id": "c646d200",
   "metadata": {},
   "outputs": [
    {
     "data": {
      "text/plain": [
       "['sex', 'cp', 'fbs', 'restecg', 'exang', 'slope', 'ca', 'thal', 'target']"
      ]
     },
     "execution_count": 15,
     "metadata": {},
     "output_type": "execute_result"
    }
   ],
   "source": [
    "bar_columns"
   ]
  },
  {
   "cell_type": "code",
   "execution_count": 16,
   "id": "ecf5eb3e",
   "metadata": {},
   "outputs": [],
   "source": [
    "# fig = plt.figure(figsize=(20,15))\n",
    "# for index,col in enumerate(Cols):\n",
    "#     plt.subplot(4,3,index+1)\n",
    "#     sns.barplot(x=day_reports.index, y=col, data=day_reports)"
   ]
  },
  {
   "cell_type": "code",
   "execution_count": 17,
   "id": "52aef24d",
   "metadata": {},
   "outputs": [
    {
     "data": {
      "image/png": "[encoded data removed]",
      "text/plain": [
       "<Figure size 1440x720 with 5 Axes>"
      ]
     },
     "metadata": {},
     "output_type": "display_data"
    }
   ],
   "source": [
    "fig = plt.figure(figsize=(20,10))\n",
    "for index,col in enumerate(hist_columns):\n",
    "    plt.subplot(2,3,index+1)\n",
    "    sns.histplot(df[col])"
   ]
  },
  {
   "cell_type": "markdown",
   "id": "48d0f0d4",
   "metadata": {},
   "source": [
    "Columns Age and thalach are left skewed while columns trestbps.chol and oldpeak are right skewed"
   ]
  },
  {
   "cell_type": "code",
   "execution_count": 18,
   "id": "ab189886",
   "metadata": {},
   "outputs": [
    {
     "data": {
      "image/png": "[encoded data removed]",
      "text/plain": [
       "<Figure size 1440x1080 with 9 Axes>"
      ]
     },
     "metadata": {},
     "output_type": "display_data"
    }
   ],
   "source": [
    "fig = plt.figure(figsize=(20,15))\n",
    "for index,col in enumerate(bar_columns):\n",
    "    plt.subplot(3,3,index+1)\n",
    "    sns.countplot(x = df[col])"
   ]
  },
  {
   "cell_type": "markdown",
   "id": "be574828",
   "metadata": {},
   "source": [
    "These are the Counts of various categorical and binary features present in our data."
   ]
  },
  {
   "cell_type": "code",
   "execution_count": 19,
   "id": "1080cda9",
   "metadata": {},
   "outputs": [
    {
     "data": {
      "image/png": "[encoded data removed]",
      "text/plain": [
       "<Figure size 1440x1080 with 9 Axes>"
      ]
     },
     "metadata": {},
     "output_type": "display_data"
    }
   ],
   "source": [
    "fig = plt.figure(figsize=(20,15))\n",
    "for index,col in enumerate(bar_columns):\n",
    "    plt.subplot(3,3,index+1)\n",
    "    sns.barplot(x = col, y = 'target', data=df)"
   ]
  },
  {
   "cell_type": "markdown",
   "id": "e271b00f",
   "metadata": {},
   "source": [
    "Females tend to get heart attack at almost double the rate of Males. The chances of heart atack are only 23% if there is no chest pain and it increases substantially to around 80% if there is chest pain of type 1 or type 2. Fasting blood sugar also shows minute inverse correlation with heart attack rate. Resting electrocardiographic results show that when it is 0 the chances of heart attack are at 45%, when the result is 1 the chances are around 60% and when the result is 2 there are on average low heart attacks but there is a lot of variance. Exercise induced angina when present lowers the chances of heart attack significantly. Slope of the peak exercise has greater risk of heart attack when the value is 2. In number of major vessels the chances are around 70% for 0 and 4, while 4 also having high variability. "
   ]
  },
  {
   "cell_type": "code",
   "execution_count": 20,
   "id": "c04ecc5b",
   "metadata": {},
   "outputs": [
    {
     "data": {
      "image/png": "[encoded data removed]",
      "text/plain": [
       "<Figure size 1440x1080 with 13 Axes>"
      ]
     },
     "metadata": {},
     "output_type": "display_data"
    }
   ],
   "source": [
    "fig = plt.figure(figsize=(20,15))\n",
    "for index,col in enumerate(df.drop('target', axis=1).columns):\n",
    "    plt.subplot(4,4,index+1)\n",
    "    sns.boxplot(y = df[col])"
   ]
  },
  {
   "cell_type": "markdown",
   "id": "a73b8cb6",
   "metadata": {},
   "source": [
    "Columns chol, ca and thal seem to have outliers. I am not going to remove the outliers because i want our model to see these anomalies as well."
   ]
  },
  {
   "cell_type": "code",
   "execution_count": 21,
   "id": "f33c6e53",
   "metadata": {},
   "outputs": [
    {
     "data": {
      "text/plain": [
       "age          9.047970\n",
       "sex          0.466426\n",
       "cp           1.032044\n",
       "trestbps    17.563394\n",
       "chol        51.753489\n",
       "fbs          0.356686\n",
       "restecg      0.526027\n",
       "thalach     22.903527\n",
       "exang        0.470196\n",
       "oldpeak      1.161452\n",
       "slope        0.616274\n",
       "ca           1.006748\n",
       "thal         0.613026\n",
       "target       0.498970\n",
       "dtype: float64"
      ]
     },
     "execution_count": 21,
     "metadata": {},
     "output_type": "execute_result"
    }
   ],
   "source": [
    "df.std()"
   ]
  },
  {
   "cell_type": "markdown",
   "id": "c0b8189d",
   "metadata": {},
   "source": [
    "Features chol, thalach and trestbps have somewhat higher standard deviation than other columns."
   ]
  },
  {
   "cell_type": "code",
   "execution_count": 29,
   "id": "f28d1028",
   "metadata": {},
   "outputs": [
    {
     "data": {
      "text/plain": [
       "<AxesSubplot:>"
      ]
     },
     "execution_count": 29,
     "metadata": {},
     "output_type": "execute_result"
    },
    {
     "data": {
      "image/png": "[encoded data removed]",
      "text/plain": [
       "<Figure size 1440x720 with 2 Axes>"
      ]
     },
     "metadata": {},
     "output_type": "display_data"
    }
   ],
   "source": [
    "plt.figure(figsize=(20,10))\n",
    "sns.heatmap(df.corr(), annot=True , cmap=\"YlGnBu\")"
   ]
  },
  {
   "cell_type": "code",
   "execution_count": 23,
   "id": "9087a8c6",
   "metadata": {},
   "outputs": [
    {
     "data": {
      "text/plain": [
       "<AxesSubplot:xlabel='target', ylabel='age'>"
      ]
     },
     "execution_count": 23,
     "metadata": {},
     "output_type": "execute_result"
    },
    {
     "data": {
      "image/png": "[encoded data removed]",
      "text/plain": [
       "<Figure size 432x288 with 1 Axes>"
      ]
     },
     "metadata": {},
     "output_type": "display_data"
    }
   ],
   "source": [
    "sns.scatterplot(x=df['target'], y=df['age'])"
   ]
  },
  {
   "cell_type": "code",
   "execution_count": 24,
   "id": "3034d152",
   "metadata": {},
   "outputs": [
    {
     "data": {
      "text/plain": [
       "(52.58536585365854, 9.511957240241179)"
      ]
     },
     "execution_count": 24,
     "metadata": {},
     "output_type": "execute_result"
    }
   ],
   "source": [
    "df['age'][df['target']==1].mean() , df['age'][df['target']==1].std()"
   ]
  },
  {
   "cell_type": "code",
   "execution_count": 25,
   "id": "fa89cd20",
   "metadata": {},
   "outputs": [
    {
     "data": {
      "text/plain": [
       "(56.60144927536232, 7.962081537501172)"
      ]
     },
     "execution_count": 25,
     "metadata": {},
     "output_type": "execute_result"
    }
   ],
   "source": [
    "df['age'][df['target']==0].mean() , df['age'][df['target']==0].std()"
   ]
  },
  {
   "cell_type": "markdown",
   "id": "9b0364b4",
   "metadata": {},
   "source": [
    "Age doesn't give much information about the heart attack."
   ]
  },
  {
   "cell_type": "markdown",
   "id": "19689c79",
   "metadata": {},
   "source": [
    "As we saw earlier in boxplot of Resting heart rate there are anomalies present and they are greater than 170 according to the boxplot, lets see if anomalies have any effect on heart diseases."
   ]
  },
  {
   "cell_type": "code",
   "execution_count": 26,
   "id": "5749e5f3",
   "metadata": {},
   "outputs": [
    {
     "data": {
      "text/html": [
       "<div>\n",
       "<style scoped>\n",
       "    .dataframe tbody tr th:only-of-type {\n",
       "        vertical-align: middle;\n",
       "    }\n",
       "\n",
       "    .dataframe tbody tr th {\n",
       "        vertical-align: top;\n",
       "    }\n",
       "\n",
       "    .dataframe thead th {\n",
       "        text-align: right;\n",
       "    }\n",
       "</style>\n",
       "<table border=\"1\" class=\"dataframe\">\n",
       "  <thead>\n",
       "    <tr style=\"text-align: right;\">\n",
       "      <th></th>\n",
       "      <th>trestbps</th>\n",
       "      <th>target</th>\n",
       "    </tr>\n",
       "  </thead>\n",
       "  <tbody>\n",
       "    <tr>\n",
       "      <th>8</th>\n",
       "      <td>172</td>\n",
       "      <td>1</td>\n",
       "    </tr>\n",
       "    <tr>\n",
       "      <th>101</th>\n",
       "      <td>178</td>\n",
       "      <td>1</td>\n",
       "    </tr>\n",
       "    <tr>\n",
       "      <th>110</th>\n",
       "      <td>180</td>\n",
       "      <td>1</td>\n",
       "    </tr>\n",
       "    <tr>\n",
       "      <th>203</th>\n",
       "      <td>180</td>\n",
       "      <td>0</td>\n",
       "    </tr>\n",
       "    <tr>\n",
       "      <th>223</th>\n",
       "      <td>200</td>\n",
       "      <td>0</td>\n",
       "    </tr>\n",
       "    <tr>\n",
       "      <th>241</th>\n",
       "      <td>174</td>\n",
       "      <td>0</td>\n",
       "    </tr>\n",
       "    <tr>\n",
       "      <th>248</th>\n",
       "      <td>192</td>\n",
       "      <td>0</td>\n",
       "    </tr>\n",
       "    <tr>\n",
       "      <th>260</th>\n",
       "      <td>178</td>\n",
       "      <td>0</td>\n",
       "    </tr>\n",
       "    <tr>\n",
       "      <th>266</th>\n",
       "      <td>180</td>\n",
       "      <td>0</td>\n",
       "    </tr>\n",
       "  </tbody>\n",
       "</table>\n",
       "</div>"
      ],
      "text/plain": [
       "     trestbps  target\n",
       "8         172       1\n",
       "101       178       1\n",
       "110       180       1\n",
       "203       180       0\n",
       "223       200       0\n",
       "241       174       0\n",
       "248       192       0\n",
       "260       178       0\n",
       "266       180       0"
      ]
     },
     "execution_count": 26,
     "metadata": {},
     "output_type": "execute_result"
    }
   ],
   "source": [
    "df[['trestbps','target']][df['trestbps']>170]"
   ]
  },
  {
   "cell_type": "markdown",
   "id": "19c0b924",
   "metadata": {},
   "source": [
    "There seems to be no connection between resting heart rate and heart diseases."
   ]
  },
  {
   "cell_type": "code",
   "execution_count": 28,
   "id": "fca79f71",
   "metadata": {},
   "outputs": [],
   "source": [
    "#sns.pairplot(df)"
   ]
  },
  {
   "cell_type": "markdown",
   "id": "e3b6eee5",
   "metadata": {},
   "source": [
    "Pairplots are too small and it is not visible properly"
   ]
  },
  {
   "cell_type": "code",
   "execution_count": 27,
   "id": "843f51c5",
   "metadata": {},
   "outputs": [
    {
     "data": {
      "text/plain": [
       "age        -0.221476\n",
       "sex        -0.283609\n",
       "cp          0.432080\n",
       "trestbps   -0.146269\n",
       "chol       -0.081437\n",
       "fbs        -0.026826\n",
       "restecg     0.134874\n",
       "thalach     0.419955\n",
       "exang      -0.435601\n",
       "oldpeak    -0.429146\n",
       "slope       0.343940\n",
       "ca         -0.408992\n",
       "thal       -0.343101\n",
       "target      1.000000\n",
       "dtype: float64"
      ]
     },
     "execution_count": 27,
     "metadata": {},
     "output_type": "execute_result"
    }
   ],
   "source": [
    "df.corrwith(df[\"target\"])"
   ]
  },
  {
   "cell_type": "markdown",
   "id": "f78ed3bf",
   "metadata": {},
   "source": [
    "The features cp, thalach, exang, oldpeak and ca have strong correlation with the target value."
   ]
  },
  {
   "cell_type": "markdown",
   "id": "11d10141",
   "metadata": {},
   "source": [
    "Cholestrol levels and target variable have a small inverse correlation."
   ]
  },
  {
   "cell_type": "markdown",
   "id": "90fade44",
   "metadata": {},
   "source": [
    "Peak Exercise and target variable have a strong inverse correlation. It means that when the Peak exercise increases the chances of heart disease decreases.\n"
   ]
  },
  {
   "cell_type": "markdown",
   "id": "8e9726ff",
   "metadata": {},
   "source": [
    "thalassemia is highly correlated with Heart diseases."
   ]
  },
  {
   "cell_type": "markdown",
   "id": "4e031127",
   "metadata": {},
   "source": [
    "fasting blood sugar have very less inverse correlation with Target variable we may have to drop it in feature selection for our ML model."
   ]
  },
  {
   "cell_type": "code",
   "execution_count": 30,
   "id": "a7410680",
   "metadata": {},
   "outputs": [],
   "source": [
    "import statsmodels.api as sm"
   ]
  },
  {
   "cell_type": "code",
   "execution_count": 34,
   "id": "6e481865",
   "metadata": {},
   "outputs": [],
   "source": [
    "X_train = df.drop('target', axis=1)\n",
    "y_train = df['target']"
   ]
  },
  {
   "cell_type": "code",
   "execution_count": 35,
   "id": "75e03520",
   "metadata": {},
   "outputs": [
    {
     "name": "stdout",
     "output_type": "stream",
     "text": [
      "Optimization terminated successfully.\n",
      "         Current function value: 0.351033\n",
      "         Iterations 7\n"
     ]
    }
   ],
   "source": [
    "log_reg = sm.Logit(y_train, X_train).fit()"
   ]
  },
  {
   "cell_type": "code",
   "execution_count": 36,
   "id": "b223259d",
   "metadata": {},
   "outputs": [
    {
     "name": "stdout",
     "output_type": "stream",
     "text": [
      "                           Logit Regression Results                           \n",
      "==============================================================================\n",
      "Dep. Variable:                 target   No. Observations:                  302\n",
      "Model:                          Logit   Df Residuals:                      289\n",
      "Method:                           MLE   Df Model:                           12\n",
      "Date:                Tue, 02 Aug 2022   Pseudo R-squ.:                  0.4908\n",
      "Time:                        01:13:18   Log-Likelihood:                -106.01\n",
      "converged:                       True   LL-Null:                       -208.21\n",
      "Covariance Type:            nonrobust   LLR p-value:                 4.033e-37\n",
      "==============================================================================\n",
      "                 coef    std err          z      P>|z|      [0.025      0.975]\n",
      "------------------------------------------------------------------------------\n",
      "age            0.0156      0.019      0.811      0.417      -0.022       0.053\n",
      "sex           -1.6352      0.451     -3.622      0.000      -2.520      -0.750\n",
      "cp             0.8357      0.184      4.535      0.000       0.475       1.197\n",
      "trestbps      -0.0163      0.010     -1.651      0.099      -0.036       0.003\n",
      "chol          -0.0035      0.004     -0.917      0.359      -0.011       0.004\n",
      "fbs            0.0316      0.529      0.060      0.952      -1.005       1.068\n",
      "restecg        0.5225      0.342      1.526      0.127      -0.149       1.194\n",
      "thalach        0.0314      0.008      3.731      0.000       0.015       0.048\n",
      "exang         -0.8971      0.403     -2.226      0.026      -1.687      -0.107\n",
      "oldpeak       -0.4829      0.210     -2.298      0.022      -0.895      -0.071\n",
      "slope          0.6180      0.346      1.785      0.074      -0.061       1.297\n",
      "ca            -0.8310      0.201     -4.129      0.000      -1.225      -0.437\n",
      "thal          -0.8325      0.288     -2.891      0.004      -1.397      -0.268\n",
      "==============================================================================\n"
     ]
    }
   ],
   "source": [
    "print(log_reg.summary())"
   ]
  },
  {
   "cell_type": "markdown",
   "id": "18d4f411",
   "metadata": {},
   "source": [
    "We see that we get a Pseudo R-squared of 0.49 which means the model explains 49% of the target variable.\n",
    "Features sex, cp, exang, ca and thal have high coefficient values, it is the measurement of how change in that variable affects the independent variable.\n",
    "Features trestbps, age, chol, fbs and thalach are having low coefficient values, we may have to remove some of them taking into account the result of correlation analysis, standard error and p value.\n",
    "Features age, trestbps, chol and thalach have low standard deviation of coefficient which is not looking too good.\n",
    "Six Features are greater than the conventional limit of 0.05 for p-values. \n",
    "We will eliminate the feature chol, fbs on basis of correlation analysis, coefficient value and p-value.\n",
    "We can also eliminate other features but for now we use them."
   ]
  },
  {
   "cell_type": "code",
   "execution_count": 39,
   "id": "799bb3dc",
   "metadata": {},
   "outputs": [
    {
     "data": {
      "text/html": [
       "<div>\n",
       "<style scoped>\n",
       "    .dataframe tbody tr th:only-of-type {\n",
       "        vertical-align: middle;\n",
       "    }\n",
       "\n",
       "    .dataframe tbody tr th {\n",
       "        vertical-align: top;\n",
       "    }\n",
       "\n",
       "    .dataframe thead th {\n",
       "        text-align: right;\n",
       "    }\n",
       "</style>\n",
       "<table border=\"1\" class=\"dataframe\">\n",
       "  <thead>\n",
       "    <tr style=\"text-align: right;\">\n",
       "      <th></th>\n",
       "      <th>age</th>\n",
       "      <th>sex</th>\n",
       "      <th>cp</th>\n",
       "      <th>trestbps</th>\n",
       "      <th>restecg</th>\n",
       "      <th>thalach</th>\n",
       "      <th>exang</th>\n",
       "      <th>oldpeak</th>\n",
       "      <th>slope</th>\n",
       "      <th>ca</th>\n",
       "      <th>thal</th>\n",
       "    </tr>\n",
       "  </thead>\n",
       "  <tbody>\n",
       "    <tr>\n",
       "      <th>0</th>\n",
       "      <td>63</td>\n",
       "      <td>1</td>\n",
       "      <td>3</td>\n",
       "      <td>145</td>\n",
       "      <td>0</td>\n",
       "      <td>150</td>\n",
       "      <td>0</td>\n",
       "      <td>2.3</td>\n",
       "      <td>0</td>\n",
       "      <td>0</td>\n",
       "      <td>1</td>\n",
       "    </tr>\n",
       "    <tr>\n",
       "      <th>1</th>\n",
       "      <td>37</td>\n",
       "      <td>1</td>\n",
       "      <td>2</td>\n",
       "      <td>130</td>\n",
       "      <td>1</td>\n",
       "      <td>187</td>\n",
       "      <td>0</td>\n",
       "      <td>3.5</td>\n",
       "      <td>0</td>\n",
       "      <td>0</td>\n",
       "      <td>2</td>\n",
       "    </tr>\n",
       "    <tr>\n",
       "      <th>2</th>\n",
       "      <td>41</td>\n",
       "      <td>0</td>\n",
       "      <td>1</td>\n",
       "      <td>130</td>\n",
       "      <td>0</td>\n",
       "      <td>172</td>\n",
       "      <td>0</td>\n",
       "      <td>1.4</td>\n",
       "      <td>2</td>\n",
       "      <td>0</td>\n",
       "      <td>2</td>\n",
       "    </tr>\n",
       "    <tr>\n",
       "      <th>3</th>\n",
       "      <td>56</td>\n",
       "      <td>1</td>\n",
       "      <td>1</td>\n",
       "      <td>120</td>\n",
       "      <td>1</td>\n",
       "      <td>178</td>\n",
       "      <td>0</td>\n",
       "      <td>0.8</td>\n",
       "      <td>2</td>\n",
       "      <td>0</td>\n",
       "      <td>2</td>\n",
       "    </tr>\n",
       "    <tr>\n",
       "      <th>4</th>\n",
       "      <td>57</td>\n",
       "      <td>0</td>\n",
       "      <td>0</td>\n",
       "      <td>120</td>\n",
       "      <td>1</td>\n",
       "      <td>163</td>\n",
       "      <td>1</td>\n",
       "      <td>0.6</td>\n",
       "      <td>2</td>\n",
       "      <td>0</td>\n",
       "      <td>2</td>\n",
       "    </tr>\n",
       "  </tbody>\n",
       "</table>\n",
       "</div>"
      ],
      "text/plain": [
       "   age  sex  cp  trestbps  restecg  thalach  exang  oldpeak  slope  ca  thal\n",
       "0   63    1   3       145        0      150      0      2.3      0   0     1\n",
       "1   37    1   2       130        1      187      0      3.5      0   0     2\n",
       "2   41    0   1       130        0      172      0      1.4      2   0     2\n",
       "3   56    1   1       120        1      178      0      0.8      2   0     2\n",
       "4   57    0   0       120        1      163      1      0.6      2   0     2"
      ]
     },
     "execution_count": 39,
     "metadata": {},
     "output_type": "execute_result"
    }
   ],
   "source": [
    "X_train_fs = X_train.drop(['chol','fbs'], axis=1)\n",
    "X_train_fs.head()"
   ]
  },
  {
   "cell_type": "code",
   "execution_count": 83,
   "id": "a9447ce2",
   "metadata": {},
   "outputs": [],
   "source": [
    "import warnings\n",
    "warnings.filterwarnings(\"ignore\")"
   ]
  },
  {
   "cell_type": "markdown",
   "id": "1147f2e1",
   "metadata": {},
   "source": [
    "### Logistic Regression"
   ]
  },
  {
   "cell_type": "code",
   "execution_count": 40,
   "id": "212864ca",
   "metadata": {},
   "outputs": [],
   "source": [
    "from sklearn.model_selection import GridSearchCV\n",
    "from sklearn.linear_model import LogisticRegression\n",
    "from sklearn.metrics import accuracy_score"
   ]
  },
  {
   "cell_type": "code",
   "execution_count": 84,
   "id": "b0f9d42f",
   "metadata": {},
   "outputs": [],
   "source": [
    "lr = LogisticRegression()"
   ]
  },
  {
   "cell_type": "code",
   "execution_count": 85,
   "id": "bf4daef1",
   "metadata": {},
   "outputs": [],
   "source": [
    "params = {'penalty' : ['none', 'l2'],\n",
    "         'C' : [10, 1.0, 0.1,0.01]\n",
    "         }"
   ]
  },
  {
   "cell_type": "code",
   "execution_count": 86,
   "id": "75d62399",
   "metadata": {},
   "outputs": [
    {
     "data": {
      "text/plain": [
       "GridSearchCV(error_score=0, estimator=LogisticRegression(), n_jobs=-1,\n",
       "             param_grid={'C': [10, 1.0, 0.1, 0.01], 'penalty': ['none', 'l2']},\n",
       "             scoring='accuracy')"
      ]
     },
     "execution_count": 86,
     "metadata": {},
     "output_type": "execute_result"
    }
   ],
   "source": [
    "clf = GridSearchCV(lr, params, scoring ='accuracy' , n_jobs = -1, error_score=0)\n",
    "clf.fit(X_train_fs, y_train)"
   ]
  },
  {
   "cell_type": "code",
   "execution_count": 87,
   "id": "7a450979",
   "metadata": {},
   "outputs": [
    {
     "name": "stdout",
     "output_type": "stream",
     "text": [
      "Best: 0.847596 using {'C': 0.1, 'penalty': 'l2'}\n",
      "0.830984 (0.041813) with: {'C': 10, 'penalty': 'none'}\n",
      "0.830929 (0.044488) with: {'C': 10, 'penalty': 'l2'}\n",
      "0.830984 (0.041813) with: {'C': 1.0, 'penalty': 'none'}\n",
      "0.834262 (0.045162) with: {'C': 1.0, 'penalty': 'l2'}\n",
      "0.830984 (0.041813) with: {'C': 0.1, 'penalty': 'none'}\n",
      "0.847596 (0.064467) with: {'C': 0.1, 'penalty': 'l2'}\n",
      "0.830984 (0.041813) with: {'C': 0.01, 'penalty': 'none'}\n",
      "0.771311 (0.064119) with: {'C': 0.01, 'penalty': 'l2'}\n"
     ]
    }
   ],
   "source": [
    "print(\"Best: %f using %s\" % (clf.best_score_, clf.best_params_))\n",
    "means = clf.cv_results_['mean_test_score']\n",
    "stds = clf.cv_results_['std_test_score']\n",
    "params = clf.cv_results_['params']\n",
    "for mean, stdev, param in zip(means, stds, params):\n",
    "    print(\"%f (%f) with: %r\" % (mean, stdev, param))"
   ]
  },
  {
   "cell_type": "markdown",
   "id": "df96e693",
   "metadata": {},
   "source": [
    "### Random Forest"
   ]
  },
  {
   "cell_type": "code",
   "execution_count": 90,
   "id": "e8b02125",
   "metadata": {},
   "outputs": [],
   "source": [
    "from sklearn.ensemble import RandomForestClassifier"
   ]
  },
  {
   "cell_type": "code",
   "execution_count": 92,
   "id": "588763c8",
   "metadata": {},
   "outputs": [],
   "source": [
    "RF = RandomForestClassifier()"
   ]
  },
  {
   "cell_type": "code",
   "execution_count": 102,
   "id": "4f413d34",
   "metadata": {},
   "outputs": [],
   "source": [
    "params = params = {'n_estimators' : [100,1000,5000],\n",
    "         'max_features' : [1,3,5,7]\n",
    "         }"
   ]
  },
  {
   "cell_type": "code",
   "execution_count": 100,
   "id": "97b991ed",
   "metadata": {},
   "outputs": [
    {
     "data": {
      "text/plain": [
       "GridSearchCV(error_score=0, estimator=RandomForestClassifier(), n_jobs=-1,\n",
       "             param_grid={'max_features': [1, 3, 5, 7, 9],\n",
       "                         'n_estimators': [100, 1000, 5000]},\n",
       "             scoring='accuracy')"
      ]
     },
     "execution_count": 100,
     "metadata": {},
     "output_type": "execute_result"
    }
   ],
   "source": [
    "clf = GridSearchCV(RF, params, scoring ='accuracy' , n_jobs = -1, error_score=0)\n",
    "clf.fit(X_train_fs, y_train)"
   ]
  },
  {
   "cell_type": "code",
   "execution_count": 101,
   "id": "7a14c294",
   "metadata": {
    "scrolled": true
   },
   "outputs": [
    {
     "name": "stdout",
     "output_type": "stream",
     "text": [
      "Best: 0.837650 using {'max_features': 1, 'n_estimators': 1000}\n",
      "0.834262 (0.033709) with: {'max_features': 1, 'n_estimators': 100}\n",
      "0.837650 (0.037053) with: {'max_features': 1, 'n_estimators': 1000}\n",
      "0.834317 (0.036538) with: {'max_features': 1, 'n_estimators': 5000}\n",
      "0.807596 (0.052991) with: {'max_features': 3, 'n_estimators': 100}\n",
      "0.817705 (0.039831) with: {'max_features': 3, 'n_estimators': 1000}\n",
      "0.820929 (0.042137) with: {'max_features': 3, 'n_estimators': 5000}\n",
      "0.794426 (0.050674) with: {'max_features': 5, 'n_estimators': 100}\n",
      "0.807705 (0.044803) with: {'max_features': 5, 'n_estimators': 1000}\n",
      "0.804317 (0.047269) with: {'max_features': 5, 'n_estimators': 5000}\n",
      "0.794426 (0.049565) with: {'max_features': 7, 'n_estimators': 100}\n",
      "0.787760 (0.059667) with: {'max_features': 7, 'n_estimators': 1000}\n",
      "0.791038 (0.055153) with: {'max_features': 7, 'n_estimators': 5000}\n",
      "0.804317 (0.062313) with: {'max_features': 9, 'n_estimators': 100}\n",
      "0.791038 (0.052044) with: {'max_features': 9, 'n_estimators': 1000}\n",
      "0.781093 (0.056933) with: {'max_features': 9, 'n_estimators': 5000}\n"
     ]
    }
   ],
   "source": [
    "print(\"Best: %f using %s\" % (clf.best_score_, clf.best_params_))\n",
    "means = clf.cv_results_['mean_test_score']\n",
    "stds = clf.cv_results_['std_test_score']\n",
    "params = clf.cv_results_['params']\n",
    "for mean, stdev, param in zip(means, stds, params):\n",
    "    print(\"%f (%f) with: %r\" % (mean, stdev, param))"
   ]
  },
  {
   "cell_type": "markdown",
   "id": "b5362dbd",
   "metadata": {},
   "source": [
    "### KNN"
   ]
  },
  {
   "cell_type": "code",
   "execution_count": 105,
   "id": "739a1d78",
   "metadata": {},
   "outputs": [],
   "source": [
    "from sklearn.neighbors import KNeighborsClassifier"
   ]
  },
  {
   "cell_type": "code",
   "execution_count": 107,
   "id": "86848d91",
   "metadata": {},
   "outputs": [],
   "source": [
    "knn = KNeighborsClassifier()"
   ]
  },
  {
   "cell_type": "code",
   "execution_count": 112,
   "id": "802e3dd1",
   "metadata": {},
   "outputs": [],
   "source": [
    "params = params = {'n_neighbors' : [1,3,5,7]\n",
    "         }"
   ]
  },
  {
   "cell_type": "code",
   "execution_count": 113,
   "id": "b2e6b447",
   "metadata": {},
   "outputs": [
    {
     "data": {
      "text/plain": [
       "GridSearchCV(error_score=0, estimator=KNeighborsClassifier(), n_jobs=-1,\n",
       "             param_grid={'n_neighbors': [1, 3, 5, 7]}, scoring='accuracy')"
      ]
     },
     "execution_count": 113,
     "metadata": {},
     "output_type": "execute_result"
    }
   ],
   "source": [
    "clf = GridSearchCV(knn, params, scoring ='accuracy' , n_jobs = -1, error_score=0)\n",
    "clf.fit(X_train_fs, y_train)"
   ]
  },
  {
   "cell_type": "code",
   "execution_count": 114,
   "id": "e444e368",
   "metadata": {},
   "outputs": [
    {
     "name": "stdout",
     "output_type": "stream",
     "text": [
      "Best: 0.642568 using {'n_neighbors': 3}\n",
      "0.592951 (0.035840) with: {'n_neighbors': 1}\n",
      "0.642568 (0.028318) with: {'n_neighbors': 3}\n",
      "0.632787 (0.048925) with: {'n_neighbors': 5}\n",
      "0.635847 (0.054281) with: {'n_neighbors': 7}\n"
     ]
    }
   ],
   "source": [
    "print(\"Best: %f using %s\" % (clf.best_score_, clf.best_params_))\n",
    "means = clf.cv_results_['mean_test_score']\n",
    "stds = clf.cv_results_['std_test_score']\n",
    "params = clf.cv_results_['params']\n",
    "for mean, stdev, param in zip(means, stds, params):\n",
    "    print(\"%f (%f) with: %r\" % (mean, stdev, param))"
   ]
  },
  {
   "cell_type": "markdown",
   "id": "2a0a0c8d",
   "metadata": {},
   "source": [
    "### Naive bayes"
   ]
  },
  {
   "cell_type": "code",
   "execution_count": 115,
   "id": "270abd08",
   "metadata": {},
   "outputs": [],
   "source": [
    "from sklearn.naive_bayes import GaussianNB"
   ]
  },
  {
   "cell_type": "code",
   "execution_count": 116,
   "id": "542ed8e8",
   "metadata": {},
   "outputs": [],
   "source": [
    "nb = GaussianNB()"
   ]
  },
  {
   "cell_type": "code",
   "execution_count": 121,
   "id": "a113bd3b",
   "metadata": {},
   "outputs": [],
   "source": [
    "from sklearn.model_selection import cross_val_score"
   ]
  },
  {
   "cell_type": "code",
   "execution_count": 130,
   "id": "2e517a6a",
   "metadata": {},
   "outputs": [
    {
     "data": {
      "text/plain": [
       "0.8177049180327869"
      ]
     },
     "execution_count": 130,
     "metadata": {},
     "output_type": "execute_result"
    }
   ],
   "source": [
    "np.mean((cross_val_score(nb, X_train_fs, y_train, cv=5)))"
   ]
  },
  {
   "cell_type": "markdown",
   "id": "42a5f8e9",
   "metadata": {},
   "source": [
    "### Support Vector Classifier"
   ]
  },
  {
   "cell_type": "code",
   "execution_count": 133,
   "id": "7b99bb8e",
   "metadata": {},
   "outputs": [],
   "source": [
    "from sklearn.svm import SVC"
   ]
  },
  {
   "cell_type": "code",
   "execution_count": 134,
   "id": "2beea98f",
   "metadata": {},
   "outputs": [],
   "source": [
    "svc = SVC()"
   ]
  },
  {
   "cell_type": "code",
   "execution_count": 135,
   "id": "3388cb0b",
   "metadata": {},
   "outputs": [],
   "source": [
    "params = params = {'kernel' : ['linear','poly', 'rbf', 'sigmoid'],\n",
    "         'C' : [50,10,1.0,0.1,0.01]\n",
    "         }"
   ]
  },
  {
   "cell_type": "code",
   "execution_count": 136,
   "id": "f26892b8",
   "metadata": {},
   "outputs": [
    {
     "data": {
      "text/plain": [
       "GridSearchCV(error_score=0, estimator=SVC(), n_jobs=-1,\n",
       "             param_grid={'C': [50, 10, 1.0, 0.1, 0.01],\n",
       "                         'kernel': ['linear', 'poly', 'rbf', 'sigmoid']},\n",
       "             scoring='accuracy')"
      ]
     },
     "execution_count": 136,
     "metadata": {},
     "output_type": "execute_result"
    }
   ],
   "source": [
    "clf = GridSearchCV(svc, params, scoring ='accuracy' , n_jobs = -1, error_score=0)\n",
    "clf.fit(X_train_fs, y_train)"
   ]
  },
  {
   "cell_type": "code",
   "execution_count": 137,
   "id": "fe68e53a",
   "metadata": {
    "scrolled": false
   },
   "outputs": [
    {
     "name": "stdout",
     "output_type": "stream",
     "text": [
      "Best: 0.834426 using {'C': 0.1, 'kernel': 'linear'}\n",
      "0.831038 (0.048796) with: {'C': 50, 'kernel': 'linear'}\n",
      "0.787869 (0.053786) with: {'C': 50, 'kernel': 'poly'}\n",
      "0.758142 (0.065864) with: {'C': 50, 'kernel': 'rbf'}\n",
      "0.642295 (0.070367) with: {'C': 50, 'kernel': 'sigmoid'}\n",
      "0.831148 (0.052616) with: {'C': 10, 'kernel': 'linear'}\n",
      "0.741694 (0.035926) with: {'C': 10, 'kernel': 'poly'}\n",
      "0.705355 (0.043240) with: {'C': 10, 'kernel': 'rbf'}\n",
      "0.645519 (0.081692) with: {'C': 10, 'kernel': 'sigmoid'}\n",
      "0.821148 (0.038468) with: {'C': 1.0, 'kernel': 'linear'}\n",
      "0.702186 (0.041794) with: {'C': 1.0, 'kernel': 'poly'}\n",
      "0.675628 (0.045433) with: {'C': 1.0, 'kernel': 'rbf'}\n",
      "0.566230 (0.011759) with: {'C': 1.0, 'kernel': 'sigmoid'}\n",
      "0.834426 (0.047985) with: {'C': 0.1, 'kernel': 'linear'}\n",
      "0.675519 (0.012482) with: {'C': 0.1, 'kernel': 'poly'}\n",
      "0.543060 (0.006318) with: {'C': 0.1, 'kernel': 'rbf'}\n",
      "0.543060 (0.006318) with: {'C': 0.1, 'kernel': 'sigmoid'}\n",
      "0.804481 (0.044544) with: {'C': 0.01, 'kernel': 'linear'}\n",
      "0.543060 (0.006318) with: {'C': 0.01, 'kernel': 'poly'}\n",
      "0.543060 (0.006318) with: {'C': 0.01, 'kernel': 'rbf'}\n",
      "0.543060 (0.006318) with: {'C': 0.01, 'kernel': 'sigmoid'}\n"
     ]
    }
   ],
   "source": [
    "print(\"Best: %f using %s\" % (clf.best_score_, clf.best_params_))\n",
    "means = clf.cv_results_['mean_test_score']\n",
    "stds = clf.cv_results_['std_test_score']\n",
    "params = clf.cv_results_['params']\n",
    "for mean, stdev, param in zip(means, stds, params):\n",
    "    print(\"%f (%f) with: %r\" % (mean, stdev, param))"
   ]
  },
  {
   "cell_type": "markdown",
   "id": "48c42279",
   "metadata": {},
   "source": [
    "### XGBoost"
   ]
  },
  {
   "cell_type": "code",
   "execution_count": 155,
   "id": "aa8f043c",
   "metadata": {},
   "outputs": [],
   "source": [
    "import xgboost as xgb"
   ]
  },
  {
   "cell_type": "code",
   "execution_count": 139,
   "id": "60b975fc",
   "metadata": {},
   "outputs": [],
   "source": [
    "xgb_model = xgb.XGBClassifier()"
   ]
  },
  {
   "cell_type": "code",
   "execution_count": 140,
   "id": "841cb9ec",
   "metadata": {},
   "outputs": [],
   "source": [
    "params = {'learning_rate' : [0.001, 0.01, 0.1],\n",
    "         'max_depth' : [3,5,7,9],\n",
    "          'sub_sample' : [0.5,0.7,1.0],\n",
    "          'n_estimators' : [100, 1000, 2000]\n",
    "         }"
   ]
  },
  {
   "cell_type": "code",
   "execution_count": 141,
   "id": "d09b5fc4",
   "metadata": {},
   "outputs": [
    {
     "name": "stdout",
     "output_type": "stream",
     "text": [
      "[14:00:09] WARNING: D:\\bld\\xgboost-split_1645118015404\\work\\src\\learner.cc:576: \n",
      "Parameters: { \"sub_sample\" } might not be used.\n",
      "\n",
      "  This could be a false alarm, with some parameters getting used by language bindings but\n",
      "  then being mistakenly passed down to XGBoost core, or some parameter actually being used\n",
      "  but getting flagged wrongly here. Please open an issue if you find any such cases.\n",
      "\n",
      "\n",
      "[14:00:09] WARNING: D:\\bld\\xgboost-split_1645118015404\\work\\src\\learner.cc:1115: Starting in XGBoost 1.3.0, the default evaluation metric used with the objective 'binary:logistic' was changed from 'error' to 'logloss'. Explicitly set eval_metric if you'd like to restore the old behavior.\n"
     ]
    },
    {
     "data": {
      "text/plain": [
       "GridSearchCV(error_score=0,\n",
       "             estimator=XGBClassifier(base_score=None, booster=None,\n",
       "                                     colsample_bylevel=None,\n",
       "                                     colsample_bynode=None,\n",
       "                                     colsample_bytree=None,\n",
       "                                     enable_categorical=False, gamma=None,\n",
       "                                     gpu_id=None, importance_type=None,\n",
       "                                     interaction_constraints=None,\n",
       "                                     learning_rate=None, max_delta_step=None,\n",
       "                                     max_depth=None, min_child_weight=None,\n",
       "                                     missing=nan, monotone_constrai...\n",
       "                                     n_estimators=100, n_jobs=None,\n",
       "                                     num_parallel_tree=None, predictor=None,\n",
       "                                     random_state=None, reg_alpha=None,\n",
       "                                     reg_lambda=None, scale_pos_weight=None,\n",
       "                                     subsample=None, tree_method=None,\n",
       "                                     validate_parameters=None, verbosity=None),\n",
       "             n_jobs=-1,\n",
       "             param_grid={'learning_rate': [0.001, 0.01, 0.1],\n",
       "                         'max_depth': [3, 5, 7, 9],\n",
       "                         'n_estimators': [100, 1000, 2000],\n",
       "                         'sub_sample': [0.5, 0.7, 1.0]},\n",
       "             scoring='accuracy')"
      ]
     },
     "execution_count": 141,
     "metadata": {},
     "output_type": "execute_result"
    }
   ],
   "source": [
    "clf = GridSearchCV(xgb_model, params, scoring ='accuracy' , n_jobs = -1, error_score=0)\n",
    "clf.fit(X_train_fs, y_train)"
   ]
  },
  {
   "cell_type": "code",
   "execution_count": 142,
   "id": "3efdd4dc",
   "metadata": {},
   "outputs": [
    {
     "name": "stdout",
     "output_type": "stream",
     "text": [
      "Best: 0.817760 using {'learning_rate': 0.001, 'max_depth': 3, 'n_estimators': 100, 'sub_sample': 0.5}\n",
      "0.817760 (0.036986) with: {'learning_rate': 0.001, 'max_depth': 3, 'n_estimators': 100, 'sub_sample': 0.5}\n",
      "0.817760 (0.036986) with: {'learning_rate': 0.001, 'max_depth': 3, 'n_estimators': 100, 'sub_sample': 0.7}\n",
      "0.817760 (0.036986) with: {'learning_rate': 0.001, 'max_depth': 3, 'n_estimators': 100, 'sub_sample': 1.0}\n",
      "0.814426 (0.043175) with: {'learning_rate': 0.001, 'max_depth': 3, 'n_estimators': 1000, 'sub_sample': 0.5}\n",
      "0.814426 (0.043175) with: {'learning_rate': 0.001, 'max_depth': 3, 'n_estimators': 1000, 'sub_sample': 0.7}\n",
      "0.814426 (0.043175) with: {'learning_rate': 0.001, 'max_depth': 3, 'n_estimators': 1000, 'sub_sample': 1.0}\n",
      "0.811148 (0.040448) with: {'learning_rate': 0.001, 'max_depth': 3, 'n_estimators': 2000, 'sub_sample': 0.5}\n",
      "0.811148 (0.040448) with: {'learning_rate': 0.001, 'max_depth': 3, 'n_estimators': 2000, 'sub_sample': 0.7}\n",
      "0.811148 (0.040448) with: {'learning_rate': 0.001, 'max_depth': 3, 'n_estimators': 2000, 'sub_sample': 1.0}\n",
      "0.784590 (0.064056) with: {'learning_rate': 0.001, 'max_depth': 5, 'n_estimators': 100, 'sub_sample': 0.5}\n",
      "0.784590 (0.064056) with: {'learning_rate': 0.001, 'max_depth': 5, 'n_estimators': 100, 'sub_sample': 0.7}\n",
      "0.784590 (0.064056) with: {'learning_rate': 0.001, 'max_depth': 5, 'n_estimators': 100, 'sub_sample': 1.0}\n",
      "0.794536 (0.052801) with: {'learning_rate': 0.001, 'max_depth': 5, 'n_estimators': 1000, 'sub_sample': 0.5}\n",
      "0.794536 (0.052801) with: {'learning_rate': 0.001, 'max_depth': 5, 'n_estimators': 1000, 'sub_sample': 0.7}\n",
      "0.794536 (0.052801) with: {'learning_rate': 0.001, 'max_depth': 5, 'n_estimators': 1000, 'sub_sample': 1.0}\n",
      "0.788033 (0.032447) with: {'learning_rate': 0.001, 'max_depth': 5, 'n_estimators': 2000, 'sub_sample': 0.5}\n",
      "0.788033 (0.032447) with: {'learning_rate': 0.001, 'max_depth': 5, 'n_estimators': 2000, 'sub_sample': 0.7}\n",
      "0.788033 (0.032447) with: {'learning_rate': 0.001, 'max_depth': 5, 'n_estimators': 2000, 'sub_sample': 1.0}\n",
      "0.787923 (0.066041) with: {'learning_rate': 0.001, 'max_depth': 7, 'n_estimators': 100, 'sub_sample': 0.5}\n",
      "0.787923 (0.066041) with: {'learning_rate': 0.001, 'max_depth': 7, 'n_estimators': 100, 'sub_sample': 0.7}\n",
      "0.787923 (0.066041) with: {'learning_rate': 0.001, 'max_depth': 7, 'n_estimators': 100, 'sub_sample': 1.0}\n",
      "0.787869 (0.050592) with: {'learning_rate': 0.001, 'max_depth': 7, 'n_estimators': 1000, 'sub_sample': 0.5}\n",
      "0.787869 (0.050592) with: {'learning_rate': 0.001, 'max_depth': 7, 'n_estimators': 1000, 'sub_sample': 0.7}\n",
      "0.787869 (0.050592) with: {'learning_rate': 0.001, 'max_depth': 7, 'n_estimators': 1000, 'sub_sample': 1.0}\n",
      "0.784645 (0.036948) with: {'learning_rate': 0.001, 'max_depth': 7, 'n_estimators': 2000, 'sub_sample': 0.5}\n",
      "0.784645 (0.036948) with: {'learning_rate': 0.001, 'max_depth': 7, 'n_estimators': 2000, 'sub_sample': 0.7}\n",
      "0.784645 (0.036948) with: {'learning_rate': 0.001, 'max_depth': 7, 'n_estimators': 2000, 'sub_sample': 1.0}\n",
      "0.787923 (0.066041) with: {'learning_rate': 0.001, 'max_depth': 9, 'n_estimators': 100, 'sub_sample': 0.5}\n",
      "0.787923 (0.066041) with: {'learning_rate': 0.001, 'max_depth': 9, 'n_estimators': 100, 'sub_sample': 0.7}\n",
      "0.787923 (0.066041) with: {'learning_rate': 0.001, 'max_depth': 9, 'n_estimators': 100, 'sub_sample': 1.0}\n",
      "0.787869 (0.050592) with: {'learning_rate': 0.001, 'max_depth': 9, 'n_estimators': 1000, 'sub_sample': 0.5}\n",
      "0.787869 (0.050592) with: {'learning_rate': 0.001, 'max_depth': 9, 'n_estimators': 1000, 'sub_sample': 0.7}\n",
      "0.787869 (0.050592) with: {'learning_rate': 0.001, 'max_depth': 9, 'n_estimators': 1000, 'sub_sample': 1.0}\n",
      "0.784645 (0.036948) with: {'learning_rate': 0.001, 'max_depth': 9, 'n_estimators': 2000, 'sub_sample': 0.5}\n",
      "0.784645 (0.036948) with: {'learning_rate': 0.001, 'max_depth': 9, 'n_estimators': 2000, 'sub_sample': 0.7}\n",
      "0.784645 (0.036948) with: {'learning_rate': 0.001, 'max_depth': 9, 'n_estimators': 2000, 'sub_sample': 1.0}\n",
      "0.811148 (0.043275) with: {'learning_rate': 0.01, 'max_depth': 3, 'n_estimators': 100, 'sub_sample': 0.5}\n",
      "0.811148 (0.043275) with: {'learning_rate': 0.01, 'max_depth': 3, 'n_estimators': 100, 'sub_sample': 0.7}\n",
      "0.811148 (0.043275) with: {'learning_rate': 0.01, 'max_depth': 3, 'n_estimators': 100, 'sub_sample': 1.0}\n",
      "0.801093 (0.036012) with: {'learning_rate': 0.01, 'max_depth': 3, 'n_estimators': 1000, 'sub_sample': 0.5}\n",
      "0.801093 (0.036012) with: {'learning_rate': 0.01, 'max_depth': 3, 'n_estimators': 1000, 'sub_sample': 0.7}\n",
      "0.801093 (0.036012) with: {'learning_rate': 0.01, 'max_depth': 3, 'n_estimators': 1000, 'sub_sample': 1.0}\n",
      "0.781093 (0.047648) with: {'learning_rate': 0.01, 'max_depth': 3, 'n_estimators': 2000, 'sub_sample': 0.5}\n",
      "0.781093 (0.047648) with: {'learning_rate': 0.01, 'max_depth': 3, 'n_estimators': 2000, 'sub_sample': 0.7}\n",
      "0.781093 (0.047648) with: {'learning_rate': 0.01, 'max_depth': 3, 'n_estimators': 2000, 'sub_sample': 1.0}\n",
      "0.794536 (0.052801) with: {'learning_rate': 0.01, 'max_depth': 5, 'n_estimators': 100, 'sub_sample': 0.5}\n",
      "0.794536 (0.052801) with: {'learning_rate': 0.01, 'max_depth': 5, 'n_estimators': 100, 'sub_sample': 0.7}\n",
      "0.794536 (0.052801) with: {'learning_rate': 0.01, 'max_depth': 5, 'n_estimators': 100, 'sub_sample': 1.0}\n",
      "0.804481 (0.031371) with: {'learning_rate': 0.01, 'max_depth': 5, 'n_estimators': 1000, 'sub_sample': 0.5}\n",
      "0.804481 (0.031371) with: {'learning_rate': 0.01, 'max_depth': 5, 'n_estimators': 1000, 'sub_sample': 0.7}\n",
      "0.804481 (0.031371) with: {'learning_rate': 0.01, 'max_depth': 5, 'n_estimators': 1000, 'sub_sample': 1.0}\n",
      "0.774590 (0.043976) with: {'learning_rate': 0.01, 'max_depth': 5, 'n_estimators': 2000, 'sub_sample': 0.5}\n",
      "0.774590 (0.043976) with: {'learning_rate': 0.01, 'max_depth': 5, 'n_estimators': 2000, 'sub_sample': 0.7}\n",
      "0.774590 (0.043976) with: {'learning_rate': 0.01, 'max_depth': 5, 'n_estimators': 2000, 'sub_sample': 1.0}\n",
      "0.787869 (0.050592) with: {'learning_rate': 0.01, 'max_depth': 7, 'n_estimators': 100, 'sub_sample': 0.5}\n",
      "0.787869 (0.050592) with: {'learning_rate': 0.01, 'max_depth': 7, 'n_estimators': 100, 'sub_sample': 0.7}\n",
      "0.787869 (0.050592) with: {'learning_rate': 0.01, 'max_depth': 7, 'n_estimators': 100, 'sub_sample': 1.0}\n",
      "0.784590 (0.029019) with: {'learning_rate': 0.01, 'max_depth': 7, 'n_estimators': 1000, 'sub_sample': 0.5}\n",
      "0.784590 (0.029019) with: {'learning_rate': 0.01, 'max_depth': 7, 'n_estimators': 1000, 'sub_sample': 0.7}\n",
      "0.784590 (0.029019) with: {'learning_rate': 0.01, 'max_depth': 7, 'n_estimators': 1000, 'sub_sample': 1.0}\n",
      "0.787923 (0.037864) with: {'learning_rate': 0.01, 'max_depth': 7, 'n_estimators': 2000, 'sub_sample': 0.5}\n",
      "0.787923 (0.037864) with: {'learning_rate': 0.01, 'max_depth': 7, 'n_estimators': 2000, 'sub_sample': 0.7}\n",
      "0.787923 (0.037864) with: {'learning_rate': 0.01, 'max_depth': 7, 'n_estimators': 2000, 'sub_sample': 1.0}\n",
      "0.787869 (0.050592) with: {'learning_rate': 0.01, 'max_depth': 9, 'n_estimators': 100, 'sub_sample': 0.5}\n",
      "0.787869 (0.050592) with: {'learning_rate': 0.01, 'max_depth': 9, 'n_estimators': 100, 'sub_sample': 0.7}\n",
      "0.787869 (0.050592) with: {'learning_rate': 0.01, 'max_depth': 9, 'n_estimators': 100, 'sub_sample': 1.0}\n",
      "0.791257 (0.029866) with: {'learning_rate': 0.01, 'max_depth': 9, 'n_estimators': 1000, 'sub_sample': 0.5}\n",
      "0.791257 (0.029866) with: {'learning_rate': 0.01, 'max_depth': 9, 'n_estimators': 1000, 'sub_sample': 0.7}\n",
      "0.791257 (0.029866) with: {'learning_rate': 0.01, 'max_depth': 9, 'n_estimators': 1000, 'sub_sample': 1.0}\n",
      "0.787869 (0.038106) with: {'learning_rate': 0.01, 'max_depth': 9, 'n_estimators': 2000, 'sub_sample': 0.5}\n",
      "0.787869 (0.038106) with: {'learning_rate': 0.01, 'max_depth': 9, 'n_estimators': 2000, 'sub_sample': 0.7}\n",
      "0.787869 (0.038106) with: {'learning_rate': 0.01, 'max_depth': 9, 'n_estimators': 2000, 'sub_sample': 1.0}\n",
      "0.801093 (0.036012) with: {'learning_rate': 0.1, 'max_depth': 3, 'n_estimators': 100, 'sub_sample': 0.5}\n",
      "0.801093 (0.036012) with: {'learning_rate': 0.1, 'max_depth': 3, 'n_estimators': 100, 'sub_sample': 0.7}\n",
      "0.801093 (0.036012) with: {'learning_rate': 0.1, 'max_depth': 3, 'n_estimators': 100, 'sub_sample': 1.0}\n",
      "0.767814 (0.052862) with: {'learning_rate': 0.1, 'max_depth': 3, 'n_estimators': 1000, 'sub_sample': 0.5}\n",
      "0.767814 (0.052862) with: {'learning_rate': 0.1, 'max_depth': 3, 'n_estimators': 1000, 'sub_sample': 0.7}\n",
      "0.767814 (0.052862) with: {'learning_rate': 0.1, 'max_depth': 3, 'n_estimators': 1000, 'sub_sample': 1.0}\n",
      "0.784426 (0.048154) with: {'learning_rate': 0.1, 'max_depth': 3, 'n_estimators': 2000, 'sub_sample': 0.5}\n",
      "0.784426 (0.048154) with: {'learning_rate': 0.1, 'max_depth': 3, 'n_estimators': 2000, 'sub_sample': 0.7}\n",
      "0.784426 (0.048154) with: {'learning_rate': 0.1, 'max_depth': 3, 'n_estimators': 2000, 'sub_sample': 1.0}\n",
      "0.784590 (0.029019) with: {'learning_rate': 0.1, 'max_depth': 5, 'n_estimators': 100, 'sub_sample': 0.5}\n",
      "0.784590 (0.029019) with: {'learning_rate': 0.1, 'max_depth': 5, 'n_estimators': 100, 'sub_sample': 0.7}\n",
      "0.784590 (0.029019) with: {'learning_rate': 0.1, 'max_depth': 5, 'n_estimators': 100, 'sub_sample': 1.0}\n",
      "0.787814 (0.035279) with: {'learning_rate': 0.1, 'max_depth': 5, 'n_estimators': 1000, 'sub_sample': 0.5}\n",
      "0.787814 (0.035279) with: {'learning_rate': 0.1, 'max_depth': 5, 'n_estimators': 1000, 'sub_sample': 0.7}\n",
      "0.787814 (0.035279) with: {'learning_rate': 0.1, 'max_depth': 5, 'n_estimators': 1000, 'sub_sample': 1.0}\n",
      "0.784426 (0.043461) with: {'learning_rate': 0.1, 'max_depth': 5, 'n_estimators': 2000, 'sub_sample': 0.5}\n",
      "0.784426 (0.043461) with: {'learning_rate': 0.1, 'max_depth': 5, 'n_estimators': 2000, 'sub_sample': 0.7}\n",
      "0.784426 (0.043461) with: {'learning_rate': 0.1, 'max_depth': 5, 'n_estimators': 2000, 'sub_sample': 1.0}\n",
      "0.787923 (0.029634) with: {'learning_rate': 0.1, 'max_depth': 7, 'n_estimators': 100, 'sub_sample': 0.5}\n",
      "0.787923 (0.029634) with: {'learning_rate': 0.1, 'max_depth': 7, 'n_estimators': 100, 'sub_sample': 0.7}\n",
      "0.787923 (0.029634) with: {'learning_rate': 0.1, 'max_depth': 7, 'n_estimators': 100, 'sub_sample': 1.0}\n",
      "0.791202 (0.028278) with: {'learning_rate': 0.1, 'max_depth': 7, 'n_estimators': 1000, 'sub_sample': 0.5}\n",
      "0.791202 (0.028278) with: {'learning_rate': 0.1, 'max_depth': 7, 'n_estimators': 1000, 'sub_sample': 0.7}\n",
      "0.791202 (0.028278) with: {'learning_rate': 0.1, 'max_depth': 7, 'n_estimators': 1000, 'sub_sample': 1.0}\n",
      "0.791148 (0.035485) with: {'learning_rate': 0.1, 'max_depth': 7, 'n_estimators': 2000, 'sub_sample': 0.5}\n",
      "0.791148 (0.035485) with: {'learning_rate': 0.1, 'max_depth': 7, 'n_estimators': 2000, 'sub_sample': 0.7}\n",
      "0.791148 (0.035485) with: {'learning_rate': 0.1, 'max_depth': 7, 'n_estimators': 2000, 'sub_sample': 1.0}\n",
      "0.801038 (0.040442) with: {'learning_rate': 0.1, 'max_depth': 9, 'n_estimators': 100, 'sub_sample': 0.5}\n",
      "0.801038 (0.040442) with: {'learning_rate': 0.1, 'max_depth': 9, 'n_estimators': 100, 'sub_sample': 0.7}\n",
      "0.801038 (0.040442) with: {'learning_rate': 0.1, 'max_depth': 9, 'n_estimators': 100, 'sub_sample': 1.0}\n",
      "0.797814 (0.029805) with: {'learning_rate': 0.1, 'max_depth': 9, 'n_estimators': 1000, 'sub_sample': 0.5}\n",
      "0.797814 (0.029805) with: {'learning_rate': 0.1, 'max_depth': 9, 'n_estimators': 1000, 'sub_sample': 0.7}\n",
      "0.797814 (0.029805) with: {'learning_rate': 0.1, 'max_depth': 9, 'n_estimators': 1000, 'sub_sample': 1.0}\n",
      "0.791148 (0.035485) with: {'learning_rate': 0.1, 'max_depth': 9, 'n_estimators': 2000, 'sub_sample': 0.5}\n",
      "0.791148 (0.035485) with: {'learning_rate': 0.1, 'max_depth': 9, 'n_estimators': 2000, 'sub_sample': 0.7}\n",
      "0.791148 (0.035485) with: {'learning_rate': 0.1, 'max_depth': 9, 'n_estimators': 2000, 'sub_sample': 1.0}\n"
     ]
    }
   ],
   "source": [
    "print(\"Best: %f using %s\" % (clf.best_score_, clf.best_params_))\n",
    "means = clf.cv_results_['mean_test_score']\n",
    "stds = clf.cv_results_['std_test_score']\n",
    "params = clf.cv_results_['params']\n",
    "for mean, stdev, param in zip(means, stds, params):\n",
    "    print(\"%f (%f) with: %r\" % (mean, stdev, param))"
   ]
  },
  {
   "cell_type": "markdown",
   "id": "933ffa02",
   "metadata": {},
   "source": [
    "We will now use the best parameters we found using gridsearch for various Algorithms then we will use a hard voting classifier to combine the Models predictions and use it as our final model."
   ]
  },
  {
   "cell_type": "code",
   "execution_count": 146,
   "id": "aa91b67e",
   "metadata": {},
   "outputs": [],
   "source": [
    "from sklearn.model_selection import train_test_split\n",
    "\n",
    "\n",
    "X_train_0,X_test,Y_train,Y_test = train_test_split(X_train_fs,y_train,test_size=0.20,random_state=0)"
   ]
  },
  {
   "cell_type": "code",
   "execution_count": 161,
   "id": "ad50b1d9",
   "metadata": {},
   "outputs": [],
   "source": [
    "estimator = []"
   ]
  },
  {
   "cell_type": "code",
   "execution_count": 162,
   "id": "ddf00057",
   "metadata": {},
   "outputs": [],
   "source": [
    "estimator.append(('LR', \n",
    "                  LogisticRegression(C = 0.1, penalty = 'l2')))"
   ]
  },
  {
   "cell_type": "code",
   "execution_count": 163,
   "id": "01ea2595",
   "metadata": {},
   "outputs": [],
   "source": [
    "estimator.append(('RF', \n",
    "                  RandomForestClassifier(max_features=1, n_estimators=1000)))"
   ]
  },
  {
   "cell_type": "code",
   "execution_count": 164,
   "id": "03e4822c",
   "metadata": {},
   "outputs": [],
   "source": [
    "estimator.append(('KNN', \n",
    "                  KNeighborsClassifier(n_neighbors=3)))"
   ]
  },
  {
   "cell_type": "code",
   "execution_count": 165,
   "id": "c07837d1",
   "metadata": {},
   "outputs": [],
   "source": [
    "estimator.append(('NB', \n",
    "                  GaussianNB()))"
   ]
  },
  {
   "cell_type": "code",
   "execution_count": 153,
   "id": "ff9d0f6f",
   "metadata": {},
   "outputs": [
    {
     "data": {
      "text/plain": [
       "SVC(C=0.1, kernel='linear')"
      ]
     },
     "execution_count": 153,
     "metadata": {},
     "output_type": "execute_result"
    }
   ],
   "source": [
    "estimator.append(('SVC', \n",
    "                  SVC(C=0.1, kernel='linear')))"
   ]
  },
  {
   "cell_type": "code",
   "execution_count": 166,
   "id": "6e72b704",
   "metadata": {},
   "outputs": [],
   "source": [
    "estimator.append(('xgb_model', \n",
    "                  xgb.XGBClassifier(learning_rate=0.001, max_depth=3, n_estimators=100, sub_sample=0.5)))"
   ]
  },
  {
   "cell_type": "code",
   "execution_count": 167,
   "id": "d83f1587",
   "metadata": {},
   "outputs": [],
   "source": [
    "from sklearn.ensemble import VotingClassifier\n",
    "from sklearn.metrics import accuracy_score"
   ]
  },
  {
   "cell_type": "code",
   "execution_count": 168,
   "id": "664e016e",
   "metadata": {},
   "outputs": [
    {
     "name": "stdout",
     "output_type": "stream",
     "text": [
      "[15:14:00] WARNING: D:\\bld\\xgboost-split_1645118015404\\work\\src\\learner.cc:576: \n",
      "Parameters: { \"sub_sample\" } might not be used.\n",
      "\n",
      "  This could be a false alarm, with some parameters getting used by language bindings but\n",
      "  then being mistakenly passed down to XGBoost core, or some parameter actually being used\n",
      "  but getting flagged wrongly here. Please open an issue if you find any such cases.\n",
      "\n",
      "\n",
      "[15:14:00] WARNING: D:\\bld\\xgboost-split_1645118015404\\work\\src\\learner.cc:1115: Starting in XGBoost 1.3.0, the default evaluation metric used with the objective 'binary:logistic' was changed from 'error' to 'logloss'. Explicitly set eval_metric if you'd like to restore the old behavior.\n"
     ]
    }
   ],
   "source": [
    "vot_hard = VotingClassifier(estimators = estimator , voting ='hard')\n",
    "vot_hard.fit(X_train_0, Y_train)\n",
    "y_pred = vot_hard.predict(X_test)"
   ]
  },
  {
   "cell_type": "code",
   "execution_count": 177,
   "id": "8d4c44cd",
   "metadata": {},
   "outputs": [
    {
     "name": "stdout",
     "output_type": "stream",
     "text": [
      "Hard Voting Score 0.9180327868852459\n"
     ]
    }
   ],
   "source": [
    "score = accuracy_score(Y_test, y_pred)\n",
    "print(\"Hard Voting Score\", score)"
   ]
  },
  {
   "cell_type": "markdown",
   "id": "52bc17f8",
   "metadata": {},
   "source": [
    "We get an accuracy of 91.8% which is better than any individual model."
   ]
  }
 ],
 "metadata": {
  "kernelspec": {
   "display_name": "Python 3 (ipykernel)",
   "language": "python",
   "name": "python3"
  },
  "language_info": {
   "codemirror_mode": {
    "name": "ipython",
    "version": 3
   },
   "file_extension": ".py",
   "mimetype": "text/x-python",
   "name": "python",
   "nbconvert_exporter": "python",
   "pygments_lexer": "ipython3",
   "version": "3.9.12"
  }
 },
 "nbformat": 4,
 "nbformat_minor": 5
}
